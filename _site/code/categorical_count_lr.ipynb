{
 "cells": [
  {
   "cell_type": "markdown",
   "id": "a5e473f0-1e94-43a7-abb3-43dd0d751624",
   "metadata": {},
   "source": [
    "# Sample Code for Likelihood Ratios for Categorical Count Data"
   ]
  },
  {
   "cell_type": "markdown",
   "id": "c37d291f-6d97-45b7-9952-fdc03cb34ede",
   "metadata": {},
   "source": [
    "## LR under the proposed model\n",
    "\n",
    "Recall that the formula for the likelihood ratio under the proposed model is\n",
    "<p align=\"center\">\n",
    "<img src=\"lr_formula.png\" width=\"300\">\n",
    "</p>\n",
    "where B(.) denotes the multivariate beta function.\n",
    "The multivariate beta function is defined as\n",
    "<p align=\"center\">\n",
    "<img src=\"mv_beta.png\" width=\"250\">\n",
    "</p>"
   ]
  },
  {
   "cell_type": "markdown",
   "id": "675d68de-94cb-4ae4-ab08-cf713484c33a",
   "metadata": {},
   "source": [
    "## Functions for computing the LR\n",
    "\n",
    "* `calc_lnlr` calculates the natural log transformed likelihood ratio for a given set of prior parameters and pair of counts. This just implements the formula above (on the natural log scale for stability).\n",
    "* `get_lnlr_from_seq` calculates natural log transformed likelihood ratios for a given set of prior parameters and sequence of events. This could be provided via two sequences to compare or a single sequence with a dividing event index. Can also be provided with a window of event indices around which to do the calculations, instead of for a fixed dividing time."
   ]
  },
  {
   "cell_type": "code",
   "execution_count": 2,
   "id": "62466624-a757-4ab9-9677-93e93bbf8cc2",
   "metadata": {},
   "outputs": [],
   "source": [
    "from scipy import special\n",
    "import numpy as np\n",
    "import pandas as pd"
   ]
  },
  {
   "cell_type": "code",
   "execution_count": 3,
   "id": "01431d28-2d17-481b-9022-7d3bece168c1",
   "metadata": {},
   "outputs": [],
   "source": [
    "# Calculate the ln(LR) for a given pair of counts and prior\n",
    "#\n",
    "# alpha: 1-dimensional array of length K containing the Dirichlet prior parameters\n",
    "# r1: 1-dimensional array of length K containing the event counts for the known source\n",
    "# r2: 1-dimensional array of length K containing the event counts for the unknown source\n",
    "#\n",
    "def calc_lnlr(r1, r2, alpha = None):\n",
    "    \n",
    "    if(r1.shape[0] != r2.shape[0]):\n",
    "        raise Exception(\"Different K's implied by r1 and r2.\")\n",
    "        \n",
    "    if(np.sum(alpha == None) == 0):\n",
    "        if(alpha.shape[0] != r1.shape[0]):\n",
    "            raise Exception(\"Different K's implied by alpha and r1.\")\n",
    "    else:\n",
    "        alpha = np.ones(r1.shape[0])\n",
    "    \n",
    "    # calculate ln(LR) using counts and prior parameters\n",
    "    lnlr = (np.sum(special.loggamma(alpha + r1 + r2)) - special.loggamma(np.sum(alpha + r1 + r2))\n",
    "           - np.sum(special.loggamma(alpha + r1)) + special.loggamma(np.sum(alpha + r1))\n",
    "           - np.sum(special.loggamma(alpha + r2)) + special.loggamma(np.sum(alpha + r2))\n",
    "           + np.sum(special.loggamma(alpha)) - special.loggamma(np.sum(alpha))) \n",
    "    \n",
    "    return lnlr"
   ]
  },
  {
   "cell_type": "code",
   "execution_count": 6,
   "id": "e2623901-8c16-4a0a-adc0-30f4cf0a25ce",
   "metadata": {},
   "outputs": [],
   "source": [
    "# Calculate the ln(LR) for a given sequence of events\n",
    "#\n",
    "# event_seq: 1-dimensional array containing a sequence of events\n",
    "#   - if event_seq2 is also specified, then event_seq consists of only the known\n",
    "#     source events (N_1 events) and then event_seq2 will have the unknown \n",
    "#     source events (N_2 events)\n",
    "#   - if event_seq2 is not also specified, then this event sequence has all N\n",
    "#     events and will be split up into N_1 + N_2 events\n",
    "# event_seq2: optional 1-dimensional array containing the unknown source events\n",
    "#   - will be used to compare against event_seq\n",
    "# event_ind: a 1-dimensional array of integers specifying the  \n",
    "#             event indices (i.e., N_1's) at which to calculate the LR\n",
    "#   - if not specified with a single sequence, defaults to floor of N / 2\n",
    "#   - if not specified with two sequences, defaults to just comparing the two\n",
    "#     sequences\n",
    "#   - if specified as a single integer, function will return a single LR value\n",
    "#   - if specified as a vector, function will return a vector of LR values\n",
    "# categories: list of length K specifying the LR categories\n",
    "#   - if not specified, defaults to the event types in event_seq\n",
    "#   - note that if specified, events in event_seq not in these categories will \n",
    "#     be ignored\n",
    "# alpha: 1-dimensional array of length K containing the Dirichlet prior parameters\n",
    "#   - if not specified, defaults to uniform Dirichlet\n",
    "#\n",
    "\n",
    "def get_lnlr_from_seq(event_seq, event_seq2 = None, event_ind = None, categories = None, alpha = None):\n",
    "    \n",
    "    # concatenate second event sequence if specified\n",
    "    if(np.sum(event_seq2 == None) == 0):\n",
    "        event_seq = np.concatenate([event_seq, event_seq2])\n",
    "        \n",
    "    # ignore empty events\n",
    "    event_seq = event_seq[event_seq != None]\n",
    "        \n",
    "    if(np.sum(categories == None) == 0):\n",
    "        # ignore events outside specified categories\n",
    "        event_seq = event_seq[np.isin(event_seq, categories)]\n",
    "    else:\n",
    "        # get categories from the unique events in the sequence if not specified\n",
    "        categories = np.unique(event_seq).tolist()\n",
    "        \n",
    "    # treat event sequence as categorical\n",
    "    event_seq = pd.Series(pd.Categorical(event_seq, categories = categories, ordered = True))\n",
    "    \n",
    "    # get number of categories\n",
    "    K = len(categories)\n",
    "    # get number of events    \n",
    "    N = event_seq.shape[0]\n",
    "        \n",
    "    # error check inputs\n",
    "    if(np.sum(alpha == None) == 0):\n",
    "        if(alpha.shape[0] != K):\n",
    "            raise Exception(\"The number of prior parameters is not equal to the number of categories.\")\n",
    "            \n",
    "        if(np.sum(alpha <= 0) > 0):\n",
    "            raise Exception(\"All prior parameters need to be greater than 0.\")\n",
    "    else:\n",
    "        alpha = np.ones(K)\n",
    "        \n",
    "    if(np.sum(event_ind == None) == 0):\n",
    "        \n",
    "        if(np.sum(event_ind < 1) > 0):\n",
    "            raise Exception(\"There are event indices less than 1.\")\n",
    "        \n",
    "        if(np.sum(event_ind > N - 1) > 0):\n",
    "            raise Exception(\"There are event indices greater than the length of the event sequence.\")\n",
    "    else:\n",
    "        if(np.sum(event_seq2 == None) == 0):\n",
    "            event_ind = N - event_seq2.shape[0]\n",
    "        else:\n",
    "            event_ind = np.floor(N / 2)\n",
    "            \n",
    "    # list to store ln(LR) vals\n",
    "    lnlr = []\n",
    "    \n",
    "    if(isinstance(event_ind, int)):\n",
    "        \n",
    "        # calculate single LR value if only index provided\n",
    "        r1 = np.array(event_seq[0:event_ind].value_counts().sort_index())\n",
    "        r2 = np.array(event_seq[event_ind:N].value_counts().sort_index())\n",
    "        lnlr.append(calc_lnlr(r1, r2, alpha))\n",
    "    else:\n",
    "        \n",
    "        # loop through all indices if multiple provided\n",
    "        for i in event_ind:\n",
    "            r1 = np.array(event_seq[0:i].value_counts().sort_index())\n",
    "            r2 = np.array(event_seq[i:N].value_counts().sort_index())\n",
    "            lnlr.append(calc_lnlr(r1, r2, alpha))\n",
    "\n",
    "    return lnlr\n",
    "            \n",
    "        "
   ]
  },
  {
   "cell_type": "markdown",
   "id": "a0b2bd84-e67d-4fc8-83c3-666b078f6a31",
   "metadata": {},
   "source": [
    "## Toy examples"
   ]
  },
  {
   "cell_type": "code",
   "execution_count": 7,
   "id": "5b9ec69c-da64-4d61-ad26-820738ddfaea",
   "metadata": {},
   "outputs": [],
   "source": [
    "np.random.seed(1234)"
   ]
  },
  {
   "cell_type": "markdown",
   "id": "c0914d5b-dff8-48e2-9ba2-82aa728aee95",
   "metadata": {},
   "source": [
    "Let's consider three event types of interest, \"A\", \"B\", and \"C\"."
   ]
  },
  {
   "cell_type": "code",
   "execution_count": 8,
   "id": "198ecdcc-6d9e-4087-900f-3d6c34cdfbda",
   "metadata": {},
   "outputs": [],
   "source": [
    "toy_categories = [\"A\", \"B\", \"C\"]"
   ]
  },
  {
   "cell_type": "markdown",
   "id": "44e18241-56ce-48ba-a2d3-d278200e73a6",
   "metadata": {},
   "source": [
    "Suppose we have identical event counts, r<sub>1</sub> = r<sub>2</sub> = (2, 1, 0).\n",
    "We can use the `calc_lnlr` function in order to calculate the likelihood ratio using these counts directly."
   ]
  },
  {
   "cell_type": "code",
   "execution_count": 9,
   "id": "625204d5-8d5c-4635-9cda-1dd95f08c54c",
   "metadata": {},
   "outputs": [
    {
     "data": {
      "text/plain": [
       "2.14285714285714"
      ]
     },
     "execution_count": 9,
     "metadata": {},
     "output_type": "execute_result"
    }
   ],
   "source": [
    "np.exp(calc_lnlr(alpha = np.ones(3), r1 = np.array([2, 1, 0]), r2 = np.array([2, 1, 0])))"
   ]
  },
  {
   "cell_type": "markdown",
   "id": "06d528ce-a7e1-4d8f-81fd-656b2c7cf2d8",
   "metadata": {},
   "source": [
    "We could also represent these counts as two sequences and then calculate the likelihood ratio."
   ]
  },
  {
   "cell_type": "code",
   "execution_count": 10,
   "id": "50662d58-ab39-4dda-bd13-486d44c434dd",
   "metadata": {},
   "outputs": [
    {
     "data": {
      "text/plain": [
       "array([2.14285714])"
      ]
     },
     "execution_count": 10,
     "metadata": {},
     "output_type": "execute_result"
    }
   ],
   "source": [
    "np.exp(get_lnlr_from_seq(event_seq = np.array([\"A\", \"A\", \"B\"]), event_seq2 = np.array([\"A\", \"A\", \"B\"]), categories = toy_categories))"
   ]
  },
  {
   "cell_type": "markdown",
   "id": "c405ee39-ae26-4287-9cc7-5e2cd141b266",
   "metadata": {},
   "source": [
    "Or alternatively as a single sequence with a specified dividing index."
   ]
  },
  {
   "cell_type": "code",
   "execution_count": 13,
   "id": "f7d0b37d-be2c-4303-96e5-7350adf7b937",
   "metadata": {},
   "outputs": [
    {
     "data": {
      "text/plain": [
       "array([2.14285714])"
      ]
     },
     "execution_count": 13,
     "metadata": {},
     "output_type": "execute_result"
    }
   ],
   "source": [
    "np.exp(get_lnlr_from_seq(event_seq = np.array([\"A\", \"A\", \"B\", \"A\", \"A\", \"B\"]), categories = toy_categories, event_ind = 3))"
   ]
  },
  {
   "cell_type": "markdown",
   "id": "e8e1cca8-c9f4-4008-aa5c-99aa41efbe6b",
   "metadata": {},
   "source": [
    "We could also evaluate the likelihood ratio throughout a window of events in the sequence, instead of only at a fixed event index.\n",
    "The function below calculates the likelihood ratio three times on the sequence: \"A\", \"A\", \"B\", \"A\", \"A\", \"B\".\n",
    "\n",
    "* A, A VS. B, A, A, B\n",
    "* A, A, B VS. A, A, B\n",
    "* A, A, B, A, VS. A, B"
   ]
  },
  {
   "cell_type": "code",
   "execution_count": 14,
   "id": "a0bf1fca-a65b-4584-8209-e7ecf7a39892",
   "metadata": {},
   "outputs": [
    {
     "data": {
      "text/plain": [
       "array([1.28571429, 2.14285714, 1.71428571])"
      ]
     },
     "execution_count": 14,
     "metadata": {},
     "output_type": "execute_result"
    }
   ],
   "source": [
    "np.exp(get_lnlr_from_seq(event_seq = np.array([\"A\", \"A\", \"B\", \"A\", \"A\", \"B\"]), categories = toy_categories, event_ind = np.array([2, 3, 4])))"
   ]
  },
  {
   "cell_type": "markdown",
   "id": "a09203fb-3f3a-4697-9b01-b6480a0822bf",
   "metadata": {},
   "source": [
    "We can also do this for a longer sequence and then plot the resulting likelihood ratios across the event indices.\n",
    "We construct a sequence of 1000 events; the first 500 will be mostly \"A\" events and then there's a change and the second 500 events will be mostly \"C\" events.\n",
    "Ideally, the likelihood ratio demonstrates that there is a change around the 500th event."
   ]
  },
  {
   "cell_type": "code",
   "execution_count": 15,
   "id": "7407bb25-ad15-4b15-a026-a5343908e46c",
   "metadata": {},
   "outputs": [],
   "source": [
    "long_seq = np.concatenate([np.random.choice(toy_categories, 500, p=[0.9, 0.05, 0.05]),\n",
    "                         np.random.choice(toy_categories, 500, p=[0.05, 0.05, 0.9])])\n",
    "\n",
    "lnlr = get_lnlr_from_seq(event_seq = long_seq, categories = toy_categories, event_ind = np.arange(1, 1000))"
   ]
  },
  {
   "cell_type": "code",
   "execution_count": 16,
   "id": "73930f91-8adc-4001-b98b-59bf19393c72",
   "metadata": {},
   "outputs": [],
   "source": [
    "%matplotlib inline\n",
    "import matplotlib.pyplot as plt\n",
    "plt.style.use('seaborn-whitegrid')\n",
    "plt.rcParams['figure.figsize'] = [10, 5]"
   ]
  },
  {
   "cell_type": "code",
   "execution_count": 17,
   "id": "ac51a076-1076-4011-8595-c1f00c0ddc34",
   "metadata": {},
   "outputs": [
    {
     "data": {
      "image/png": "[encoded data removed]",
      "text/plain": [
       "<Figure size 720x360 with 1 Axes>"
      ]
     },
     "metadata": {},
     "output_type": "display_data"
    }
   ],
   "source": [
    "plt.plot(np.arange(1, 1000), lnlr, color='black')\n",
    "plt.axvline(x = 500, color = 'red')\n",
    "plt.xlabel(\"Event index\")\n",
    "plt.ylabel(\"ln(LR)\");"
   ]
  },
  {
   "cell_type": "code",
   "execution_count": null,
   "id": "50ba3c23-8a2a-4f6c-b414-08767de5a10b",
   "metadata": {},
   "outputs": [],
   "source": []
  }
 ],
 "metadata": {
  "kernelspec": {
   "display_name": "Python 3 (ipykernel)",
   "language": "python",
   "name": "python3"
  },
  "language_info": {
   "codemirror_mode": {
    "name": "ipython",
    "version": 3
   },
   "file_extension": ".py",
   "mimetype": "text/x-python",
   "name": "python",
   "nbconvert_exporter": "python",
   "pygments_lexer": "ipython3",
   "version": "3.9.7"
  }
 },
 "nbformat": 4,
 "nbformat_minor": 5
}
